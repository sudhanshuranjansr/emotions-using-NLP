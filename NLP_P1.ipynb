{
  "nbformat": 4,
  "nbformat_minor": 0,
  "metadata": {
    "colab": {
      "name": "NLP_P1",
      "provenance": [],
      "collapsed_sections": []
    },
    "kernelspec": {
      "name": "python3",
      "display_name": "Python 3"
    },
    "accelerator": "GPU"
  },
  "cells": [
    {
      "cell_type": "code",
      "metadata": {
        "id": "oO3H7hRjsESg",
        "colab_type": "code",
        "colab": {
          "base_uri": "https://localhost:8080/",
          "height": 71
        },
        "outputId": "a9852b7d-e8ad-4bd6-cddf-5c4f612c7af1"
      },
      "source": [
        "from pandas import Series,DataFrame\n",
        "import numpy as np\n",
        "import pandas as pd\n",
        "import matplotlib.pyplot as plt\n",
        "%matplotlib inline\n",
        "import seaborn as sns\n",
        "sns.set_style(\"whitegrid\")"
      ],
      "execution_count": null,
      "outputs": [
        {
          "output_type": "stream",
          "text": [
            "/usr/local/lib/python3.6/dist-packages/statsmodels/tools/_testing.py:19: FutureWarning: pandas.util.testing is deprecated. Use the functions in the public API at pandas.testing instead.\n",
            "  import pandas.util.testing as tm\n"
          ],
          "name": "stderr"
        }
      ]
    },
    {
      "cell_type": "code",
      "metadata": {
        "id": "Z2lfV1450pf3",
        "colab_type": "code",
        "colab": {}
      },
      "source": [
        "# Import spaCy and load the language library\n",
        "import spacy\n",
        "from nltk.corpus import stopwords \n",
        "nlp = spacy.load('en_core_web_sm')"
      ],
      "execution_count": null,
      "outputs": []
    },
    {
      "cell_type": "code",
      "metadata": {
        "id": "cFx7fp1IlTjG",
        "colab_type": "code",
        "colab": {
          "base_uri": "https://localhost:8080/",
          "height": 68
        },
        "outputId": "6b820f09-0947-4ca6-8c3d-49e3566428cc"
      },
      "source": [
        "from keras.preprocessing.text import Tokenizer\n",
        "from keras.utils import to_categorical\n",
        "import keras\n",
        "from keras.models import Sequential\n",
        "from keras.layers import Dense,Embedding\n",
        "from keras.preprocessing.sequence import pad_sequences\n",
        "from sklearn.pipeline import Pipeline\n",
        "from sklearn.svm import SVC\n",
        "from sklearn.feature_extraction.text import TfidfVectorizer\n",
        "import nltk\n",
        "nltk.download('stopwords')\n",
        "from nltk.corpus import stopwords\n",
        "stop_words = set(stopwords.words('english'))\n",
        "from sklearn.metrics import confusion_matrix,accuracy_score,classification_report "
      ],
      "execution_count": null,
      "outputs": [
        {
          "output_type": "stream",
          "text": [
            "Using TensorFlow backend.\n"
          ],
          "name": "stderr"
        },
        {
          "output_type": "stream",
          "text": [
            "[nltk_data] Downloading package stopwords to /root/nltk_data...\n",
            "[nltk_data]   Unzipping corpora/stopwords.zip.\n"
          ],
          "name": "stdout"
        }
      ]
    },
    {
      "cell_type": "code",
      "metadata": {
        "id": "Wb3u0ETesLEc",
        "colab_type": "code",
        "colab": {}
      },
      "source": [
        "with open('train.txt','r') as txt:\n",
        "    train=txt.readlines()"
      ],
      "execution_count": null,
      "outputs": []
    },
    {
      "cell_type": "markdown",
      "metadata": {
        "id": "1huB_UzKYeSh",
        "colab_type": "text"
      },
      "source": [
        ""
      ]
    },
    {
      "cell_type": "code",
      "metadata": {
        "id": "Z3L_3lEJsLGu",
        "colab_type": "code",
        "colab": {
          "base_uri": "https://localhost:8080/",
          "height": 102
        },
        "outputId": "5d58cde5-f1a1-4166-8ed0-da1f4498390a"
      },
      "source": [
        "train[0:5]"
      ],
      "execution_count": null,
      "outputs": [
        {
          "output_type": "execute_result",
          "data": {
            "text/plain": [
              "['i didnt feel humiliated;sadness\\n',\n",
              " 'i can go from feeling so hopeless to so damned hopeful just from being around someone who cares and is awake;sadness\\n',\n",
              " 'im grabbing a minute to post i feel greedy wrong;anger\\n',\n",
              " 'i am ever feeling nostalgic about the fireplace i will know that it is still on the property;love\\n',\n",
              " 'i am feeling grouchy;anger\\n']"
            ]
          },
          "metadata": {
            "tags": []
          },
          "execution_count": 5
        }
      ]
    },
    {
      "cell_type": "code",
      "metadata": {
        "id": "sQ94w9_lQI5U",
        "colab_type": "code",
        "colab": {}
      },
      "source": [
        "#function_box\n",
        "def feel(v):\n",
        "    m=np.argmax(v)\n",
        "    if m==0:\n",
        "     r=yq[0]\n",
        "    elif m==1:\n",
        "     r=yq[1]\n",
        "    elif m==2:\n",
        "     r=yq[2]\n",
        "    elif m==3:\n",
        "     r=yq[3]\n",
        "    elif m==4:\n",
        "     r=yq[4]\n",
        "    elif m==5:\n",
        "     r=yq[5]\n",
        "    r=str(r)\n",
        "    return(r[:-1])"
      ],
      "execution_count": null,
      "outputs": []
    },
    {
      "cell_type": "code",
      "metadata": {
        "id": "PMpLVultmei_",
        "colab_type": "code",
        "colab": {}
      },
      "source": [
        "def sec_feel(v):\n",
        "  v1=v.remove(max(v))\n",
        "  return(feelings(v1))"
      ],
      "execution_count": null,
      "outputs": []
    },
    {
      "cell_type": "code",
      "metadata": {
        "id": "I8gKX9NOuFiF",
        "colab_type": "code",
        "colab": {}
      },
      "source": [
        ""
      ],
      "execution_count": null,
      "outputs": []
    },
    {
      "cell_type": "code",
      "metadata": {
        "id": "c1vIt0VKKi8f",
        "colab_type": "code",
        "colab": {}
      },
      "source": [
        "#data_cleaning"
      ],
      "execution_count": null,
      "outputs": []
    },
    {
      "cell_type": "code",
      "metadata": {
        "id": "XcbGQOLpsLNq",
        "colab_type": "code",
        "colab": {}
      },
      "source": [
        "x=[]\n",
        "y=[]\n",
        "for i in np.arange(len(train)):\n",
        "  txt = train[i]\n",
        "  x1,y1 = txt.split(\";\")\n",
        "  x=np.append(x,x1)\n",
        "  y=np.append(y,y1)"
      ],
      "execution_count": null,
      "outputs": []
    },
    {
      "cell_type": "code",
      "metadata": {
        "id": "zdhfYJ2qsK-t",
        "colab_type": "code",
        "colab": {
          "base_uri": "https://localhost:8080/",
          "height": 516
        },
        "outputId": "989051e3-ed94-4c9c-82a6-1034000430e7"
      },
      "source": [
        "sdf=DataFrame(DataFrame(y)[0].value_counts())\n",
        "plt.pie(sdf[0].values,labels=sdf.index,radius=1.5)"
      ],
      "execution_count": null,
      "outputs": [
        {
          "output_type": "execute_result",
          "data": {
            "text/plain": [
              "([<matplotlib.patches.Wedge at 0x7f91f1e1af98>,\n",
              "  <matplotlib.patches.Wedge at 0x7f91f1e0ab00>,\n",
              "  <matplotlib.patches.Wedge at 0x7f91f1e0a5f8>,\n",
              "  <matplotlib.patches.Wedge at 0x7f91f1e0a0f0>,\n",
              "  <matplotlib.patches.Wedge at 0x7f91f1dbe470>,\n",
              "  <matplotlib.patches.Wedge at 0x7f91f1dbe978>],\n",
              " [Text(0.8169439102975137, 1.43356292063788, 'joy\\n'),\n",
              "  Text(-1.638178996633928, 0.1971536836771195, 'sadness\\n'),\n",
              "  Text(-0.5665314898812484, -1.5496909598280986, 'anger\\n'),\n",
              "  Text(0.7232799305739157, -1.4830260085477234, 'fear\\n'),\n",
              "  Text(1.463035575191684, -0.7629068788020849, 'love\\n'),\n",
              "  Text(1.6396043984418984, -0.18492543527049307, 'surprise\\n')])"
            ]
          },
          "metadata": {
            "tags": []
          },
          "execution_count": 10
        },
        {
          "output_type": "display_data",
          "data": {
            "image/png": "[encoded data removed]",
            "text/plain": [
              "<Figure size 432x288 with 1 Axes>"
            ]
          },
          "metadata": {
            "tags": []
          }
        }
      ]
    },
    {
      "cell_type": "code",
      "metadata": {
        "id": "yoMAw9tcgrf5",
        "colab_type": "code",
        "colab": {}
      },
      "source": [
        "stop_words.update(['im','didnt','ive','feel','feeling'])      #feel can also be added in future if required\n",
        "corpus=[]\n",
        "for j in np.arange(len(x)):\n",
        "  txt=(str(x[j]))\n",
        "  txt1=\"\"\n",
        "  for  i in txt.split(\" \"):\n",
        "     if i not in (stop_words):\n",
        "      txt1=txt1+\"\".join(i)+\" \"\n",
        "  corpus=np.append(corpus,txt1)"
      ],
      "execution_count": null,
      "outputs": []
    },
    {
      "cell_type": "code",
      "metadata": {
        "id": "taF_oXuK2TtJ",
        "colab_type": "code",
        "colab": {
          "base_uri": "https://localhost:8080/",
          "height": 68
        },
        "outputId": "59878743-8ddc-46cc-fdbd-8072b54b0f05"
      },
      "source": [
        "c=nlp(str(corpus))\n",
        "print(c)"
      ],
      "execution_count": null,
      "outputs": [
        {
          "output_type": "stream",
          "text": [
            "['humiliated ' 'go hopeless damned hopeful around someone cares awake '\n",
            " 'grabbing minute post greedy wrong ' ... 'strong good overall '\n",
            " 'like rude comment glad ' 'know lot stupid portray ']\n"
          ],
          "name": "stdout"
        }
      ]
    },
    {
      "cell_type": "code",
      "metadata": {
        "id": "f-ul8sxHgr6n",
        "colab_type": "code",
        "colab": {}
      },
      "source": [
        "cr=[]\n",
        "c=(corpus)\n",
        "for i in np.arange(len(c)):\n",
        "  c11=nlp(str(c[i]))\n",
        "  c1=\" \".join([token.lemma_ for token in c11])\n",
        "  cr=np.append(cr,c1)"
      ],
      "execution_count": null,
      "outputs": []
    },
    {
      "cell_type": "code",
      "metadata": {
        "id": "P5ZGRiXJgr-C",
        "colab_type": "code",
        "colab": {
          "base_uri": "https://localhost:8080/",
          "height": 85
        },
        "outputId": "ce590b1c-748c-4ec0-a5b6-afdbe454328e"
      },
      "source": [
        "cr"
      ],
      "execution_count": null,
      "outputs": [
        {
          "output_type": "execute_result",
          "data": {
            "text/plain": [
              "array(['humiliate',\n",
              "       'go hopeless damned hopeful around someone care awake',\n",
              "       'grab minute post greedy wrong', ..., 'strong good overall',\n",
              "       'like rude comment glad', 'know lot stupid portray'], dtype='<U215')"
            ]
          },
          "metadata": {
            "tags": []
          },
          "execution_count": 14
        }
      ]
    },
    {
      "cell_type": "code",
      "metadata": {
        "id": "HZmjWUkLGbE5",
        "colab_type": "code",
        "colab": {
          "base_uri": "https://localhost:8080/",
          "height": 51
        },
        "outputId": "ea033d33-7718-4998-8196-dd9ed7f010c8"
      },
      "source": [
        "yq=np.unique(y)\n",
        "yq"
      ],
      "execution_count": null,
      "outputs": [
        {
          "output_type": "execute_result",
          "data": {
            "text/plain": [
              "array(['anger\\n', 'fear\\n', 'joy\\n', 'love\\n', 'sadness\\n', 'surprise\\n'],\n",
              "      dtype='<U32')"
            ]
          },
          "metadata": {
            "tags": []
          },
          "execution_count": 15
        }
      ]
    },
    {
      "cell_type": "code",
      "metadata": {
        "id": "m27TvJKpAWoR",
        "colab_type": "code",
        "colab": {}
      },
      "source": [
        "#ML_algo"
      ],
      "execution_count": null,
      "outputs": []
    },
    {
      "cell_type": "code",
      "metadata": {
        "id": "NOSzsI_mg456",
        "colab_type": "code",
        "colab": {}
      },
      "source": [
        "from sklearn.pipeline import Pipeline\n",
        "from sklearn.svm import SVC"
      ],
      "execution_count": null,
      "outputs": []
    },
    {
      "cell_type": "code",
      "metadata": {
        "id": "0C36PxW9g_Xg",
        "colab_type": "code",
        "colab": {}
      },
      "source": [
        "pmodel_svm = Pipeline([('tfidf', TfidfVectorizer(stop_words=stop_words)),\n",
        "                       ('clf', SVC(kernel='linear'))])"
      ],
      "execution_count": null,
      "outputs": []
    },
    {
      "cell_type": "code",
      "metadata": {
        "id": "O134RZ04jNUP",
        "colab_type": "code",
        "colab": {
          "base_uri": "https://localhost:8080/",
          "height": 391
        },
        "outputId": "0e969e65-f86f-44bc-9546-39e363bd77ed"
      },
      "source": [
        "pmodel_svm.fit(cr,y)"
      ],
      "execution_count": null,
      "outputs": [
        {
          "output_type": "execute_result",
          "data": {
            "text/plain": [
              "Pipeline(memory=None,\n",
              "         steps=[('tfidf',\n",
              "                 TfidfVectorizer(analyzer='word', binary=False,\n",
              "                                 decode_error='strict',\n",
              "                                 dtype=<class 'numpy.float64'>,\n",
              "                                 encoding='utf-8', input='content',\n",
              "                                 lowercase=True, max_df=1.0, max_features=None,\n",
              "                                 min_df=1, ngram_range=(1, 1), norm='l2',\n",
              "                                 preprocessor=None, smooth_idf=True,\n",
              "                                 stop_words={'a', 'about', 'above', 'after',\n",
              "                                             'again', 'against', 'ain', 'all'...\n",
              "                                 strip_accents=None, sublinear_tf=False,\n",
              "                                 token_pattern='(?u)\\\\b\\\\w\\\\w+\\\\b',\n",
              "                                 tokenizer=None, use_idf=True,\n",
              "                                 vocabulary=None)),\n",
              "                ('clf',\n",
              "                 SVC(C=1.0, break_ties=False, cache_size=200, class_weight=None,\n",
              "                     coef0=0.0, decision_function_shape='ovr', degree=3,\n",
              "                     gamma='scale', kernel='linear', max_iter=-1,\n",
              "                     probability=False, random_state=None, shrinking=True,\n",
              "                     tol=0.001, verbose=False))],\n",
              "         verbose=False)"
            ]
          },
          "metadata": {
            "tags": []
          },
          "execution_count": 20
        }
      ]
    },
    {
      "cell_type": "code",
      "metadata": {
        "id": "fbD8NoaUHyTK",
        "colab_type": "code",
        "colab": {}
      },
      "source": [
        "y_pre=pmodel_svm.predict(cr)"
      ],
      "execution_count": null,
      "outputs": []
    },
    {
      "cell_type": "code",
      "metadata": {
        "id": "6Cj8mELZHyfO",
        "colab_type": "code",
        "colab": {}
      },
      "source": [
        "from sklearn.metrics import confusion_matrix,accuracy_score,classification_report"
      ],
      "execution_count": null,
      "outputs": []
    },
    {
      "cell_type": "code",
      "metadata": {
        "id": "UfQVO8ozHyk5",
        "colab_type": "code",
        "colab": {}
      },
      "source": [
        "#DataFrame(confusion_matrix(y_pre,y),columns=yq,index=yq)\n",
        "#print(classification_report(y_pre,y))\n",
        "accuracy_score(y_pre,y)"
      ],
      "execution_count": null,
      "outputs": []
    },
    {
      "cell_type": "code",
      "metadata": {
        "id": "2oN0tRwqkCUt",
        "colab_type": "code",
        "colab": {
          "base_uri": "https://localhost:8080/",
          "height": 34
        },
        "outputId": "6f2e94c5-33af-46d1-f923-1910fd6e7eb0"
      },
      "source": [
        "pmodel_svm.predict([\"unexpexted it was and fearfull as well\"])     #so the model definetly needs some tuning"
      ],
      "execution_count": null,
      "outputs": [
        {
          "output_type": "execute_result",
          "data": {
            "text/plain": [
              "array(['joy\\n'], dtype='<U32')"
            ]
          },
          "metadata": {
            "tags": []
          },
          "execution_count": 61
        }
      ]
    },
    {
      "cell_type": "code",
      "metadata": {
        "id": "1qzVbMCtHy6Y",
        "colab_type": "code",
        "colab": {}
      },
      "source": [
        "#importing test data"
      ],
      "execution_count": null,
      "outputs": []
    },
    {
      "cell_type": "code",
      "metadata": {
        "id": "G4BLb_G-Hy_D",
        "colab_type": "code",
        "colab": {}
      },
      "source": [
        "with open('test.txt','r') as txt:\n",
        "    test=txt.readlines()"
      ],
      "execution_count": null,
      "outputs": []
    },
    {
      "cell_type": "code",
      "metadata": {
        "id": "dS6lk-7iHyzW",
        "colab_type": "code",
        "colab": {}
      },
      "source": [
        "xt=[]\n",
        "yt=[]\n",
        "for i in np.arange(len(test)):\n",
        "  txt = test[i]\n",
        "  xt1,yt1 = txt.split(\";\")\n",
        "  xt=np.append(xt,xt1)\n",
        "  yt=np.append(yt,yt1)"
      ],
      "execution_count": null,
      "outputs": []
    },
    {
      "cell_type": "code",
      "metadata": {
        "id": "XjYy3nTFHyxw",
        "colab_type": "code",
        "colab": {}
      },
      "source": [
        "corpus_t=[]\n",
        "for j in np.arange(len(xt)):\n",
        "  txt=(str(xt[j]))\n",
        "  txt1=\"\"\n",
        "  for  i in txt.split(\" \"):\n",
        "     if i not in (stop_words):\n",
        "      txt1=txt1+\"\".join(i)+\" \"\n",
        "  corpus_t=np.append(corpus_t,txt1)"
      ],
      "execution_count": null,
      "outputs": []
    },
    {
      "cell_type": "code",
      "metadata": {
        "id": "3zYfuD8UHyso",
        "colab_type": "code",
        "colab": {}
      },
      "source": [
        "cr_t=[]\n",
        "ct=(corpus_t)\n",
        "for i in np.arange(len(ct)):\n",
        "  c11=nlp(str(ct[i]))\n",
        "  c1=\" \".join([token.lemma_ for token in c11])\n",
        "  cr_t=np.append(cr_t,c1)"
      ],
      "execution_count": null,
      "outputs": []
    },
    {
      "cell_type": "code",
      "metadata": {
        "id": "_sGmAcY3Hyqn",
        "colab_type": "code",
        "colab": {}
      },
      "source": [
        "y_pre1=pmodel_svm.predict(cr_t)"
      ],
      "execution_count": null,
      "outputs": []
    },
    {
      "cell_type": "code",
      "metadata": {
        "id": "MetWZX40HydW",
        "colab_type": "code",
        "colab": {}
      },
      "source": [
        "#DataFrame(confusion_matrix(y_pre1,yt),columns=yq,index=yq)\n",
        "#print(classification_report(y_pre1,yt))\n",
        "#accuracy_score(y_pre1,yt)       #94 on train and 86 in test is a clear indication of overfitting we \n",
        "                                 #need to deal with that as well"
      ],
      "execution_count": null,
      "outputs": []
    },
    {
      "cell_type": "code",
      "metadata": {
        "id": "Cj0ST8oUntOb",
        "colab_type": "code",
        "colab": {}
      },
      "source": [
        "# so the points i observed here was that\n",
        "# the data is overfittted\n",
        "#urgently needs tuning"
      ],
      "execution_count": null,
      "outputs": []
    },
    {
      "cell_type": "code",
      "metadata": {
        "id": "Sp5CeCrFD0Dn",
        "colab_type": "code",
        "colab": {}
      },
      "source": [
        "#DL "
      ],
      "execution_count": null,
      "outputs": []
    },
    {
      "cell_type": "code",
      "metadata": {
        "id": "mQ3hgcvoD0Hx",
        "colab_type": "code",
        "colab": {}
      },
      "source": [
        "import keras\n",
        "from keras.models import Sequential\n",
        "from keras.layers import Dense,Embedding,Dropout\n",
        "from keras.preprocessing.sequence import pad_sequences"
      ],
      "execution_count": null,
      "outputs": []
    },
    {
      "cell_type": "code",
      "metadata": {
        "id": "u6XTJOrATXXL",
        "colab_type": "code",
        "colab": {}
      },
      "source": [
        "tt=TfidfVectorizer(stop_words=stop_words)\n",
        "tt1=tt.fit_transform(cr)\n",
        "tt2=tt1.shape"
      ],
      "execution_count": null,
      "outputs": []
    },
    {
      "cell_type": "code",
      "metadata": {
        "id": "juhTxR3YD0Mx",
        "colab_type": "code",
        "colab": {}
      },
      "source": [
        "nn_len=tt2[1]\n",
        "tokenizer = Tokenizer()\n",
        "tokenizer.fit_on_texts(cr)\n",
        "vocabulary_size = len(tokenizer.word_counts)\n",
        "\n",
        "def nn_model(vocabulary_size, nn_len):\n",
        "    model = Sequential()\n",
        "    model.add(Dense(8, input_dim=nn_len, kernel_initializer = 'uniform',activation='relu'))\n",
        "    model.add(Dropout(rate=.3))\n",
        "    model.add(Dense(6, input_dim=8, activation='relu'))\n",
        "    #classifier.add(Dropout(rate=.1))\n",
        "    model.add(Dense(output_dim = 6, activation = 'softmax'))   #output layer\n",
        "    model.compile(loss='categorical_crossentropy', optimizer='adam', metrics=['accuracy'])     \n",
        "    return model"
      ],
      "execution_count": null,
      "outputs": []
    },
    {
      "cell_type": "code",
      "metadata": {
        "id": "TeOzHjiX3KT2",
        "colab_type": "code",
        "colab": {
          "base_uri": "https://localhost:8080/",
          "height": 105
        },
        "outputId": "5d2b5d2c-26fa-42f6-cc95-1e6bac91270a"
      },
      "source": [
        "pmodel_nn = Pipeline([('tfidf', TfidfVectorizer(stop_words=stop_words,decode_error='loose')),\n",
        "                       ('nn_mo', nn_model(np.exp(50000),nn_len))])"
      ],
      "execution_count": null,
      "outputs": [
        {
          "output_type": "stream",
          "text": [
            "/usr/local/lib/python3.6/dist-packages/ipykernel_launcher.py:2: RuntimeWarning: overflow encountered in exp\n",
            "  \n",
            "/usr/local/lib/python3.6/dist-packages/ipykernel_launcher.py:12: UserWarning: Update your `Dense` call to the Keras 2 API: `Dense(activation=\"softmax\", units=6)`\n",
            "  if sys.path[0] == '':\n"
          ],
          "name": "stderr"
        }
      ]
    },
    {
      "cell_type": "code",
      "metadata": {
        "id": "wNvhUqVKGPLw",
        "colab_type": "code",
        "colab": {}
      },
      "source": [
        "tfn=TfidfVectorizer(stop_words=stop_words)\n",
        "xnn=tfn.fit_transform(cr)\n",
        "\n",
        "df1=pd.get_dummies(y)\n",
        "ynn=df1.values"
      ],
      "execution_count": null,
      "outputs": []
    },
    {
      "cell_type": "code",
      "metadata": {
        "id": "DpX6kc_230HS",
        "colab_type": "code",
        "colab": {
          "base_uri": "https://localhost:8080/",
          "height": 561
        },
        "outputId": "4991e750-e17d-439b-818e-10da172fffa7"
      },
      "source": [
        "pmodel_nn.fit(cr,ynn)\n",
        "pmodel_nn.fit(cr,ynn)\n",
        "pmodel_nn.fit(cr,ynn)\n",
        "pmodel_nn.fit(cr,ynn)"
      ],
      "execution_count": null,
      "outputs": [
        {
          "output_type": "stream",
          "text": [
            "Epoch 1/1\n",
            "16000/16000 [==============================] - 2s 132us/step - loss: 1.5480 - accuracy: 0.3319\n",
            "Epoch 1/1\n",
            "16000/16000 [==============================] - 2s 125us/step - loss: 1.2589 - accuracy: 0.4391\n",
            "Epoch 1/1\n",
            "16000/16000 [==============================] - 2s 127us/step - loss: 0.9716 - accuracy: 0.6608\n",
            "Epoch 1/1\n",
            "16000/16000 [==============================] - 2s 129us/step - loss: 0.7413 - accuracy: 0.7590\n"
          ],
          "name": "stdout"
        },
        {
          "output_type": "execute_result",
          "data": {
            "text/plain": [
              "Pipeline(memory=None,\n",
              "         steps=[('tfidf',\n",
              "                 TfidfVectorizer(analyzer='word', binary=False,\n",
              "                                 decode_error='loose',\n",
              "                                 dtype=<class 'numpy.float64'>,\n",
              "                                 encoding='utf-8', input='content',\n",
              "                                 lowercase=True, max_df=1.0, max_features=None,\n",
              "                                 min_df=1, ngram_range=(1, 1), norm='l2',\n",
              "                                 preprocessor=None, smooth_idf=True,\n",
              "                                 stop_words={'a', 'about', 'above', 'after',\n",
              "                                             'again', 'against', 'ain', 'all',\n",
              "                                             'am', 'an', 'and', 'any', 'are',\n",
              "                                             'aren', \"aren't\", 'as', 'at', 'be',\n",
              "                                             'because', 'been', 'before',\n",
              "                                             'being', 'below', 'between',\n",
              "                                             'both', 'but', 'by', 'can',\n",
              "                                             'couldn', \"couldn't\", ...},\n",
              "                                 strip_accents=None, sublinear_tf=False,\n",
              "                                 token_pattern='(?u)\\\\b\\\\w\\\\w+\\\\b',\n",
              "                                 tokenizer=None, use_idf=True,\n",
              "                                 vocabulary=None)),\n",
              "                ('nn_mo',\n",
              "                 <keras.engine.sequential.Sequential object at 0x7f91b96ad6a0>)],\n",
              "         verbose=False)"
            ]
          },
          "metadata": {
            "tags": []
          },
          "execution_count": 233
        }
      ]
    },
    {
      "cell_type": "code",
      "metadata": {
        "id": "RJd6LLKzo1zw",
        "colab_type": "code",
        "colab": {}
      },
      "source": [
        "y_pre=pmodel_nn.predict(cr)\n",
        "ynn_pre=[]\n",
        "for i in np.arange(len(y)):\n",
        "   ynn_pre=np.append(ynn_pre,np.argmax(y_pre[i]))"
      ],
      "execution_count": null,
      "outputs": []
    },
    {
      "cell_type": "code",
      "metadata": {
        "id": "UVpzYBRu1YGI",
        "colab_type": "code",
        "colab": {}
      },
      "source": [
        "yn=[]\n",
        "for i in np.arange(len(y)):\n",
        "   yn=np.append(yn,np.argmax(ynn[i]))"
      ],
      "execution_count": null,
      "outputs": []
    },
    {
      "cell_type": "code",
      "metadata": {
        "id": "HvWWow77Yb6G",
        "colab_type": "code",
        "colab": {
          "base_uri": "https://localhost:8080/",
          "height": 292
        },
        "outputId": "f5e8dad6-20fb-4932-8fb0-3b0598c8c641"
      },
      "source": [
        "#DataFrame([y,yn,ynn_pre]).T.head(5)\n",
        "#DataFrame(confusion_matrix(y_pre,y),columns=yq,index=yq)\n",
        "print(classification_report(ynn_pre,yn))\n",
        "#accuracy_score(y_pre,y)"
      ],
      "execution_count": null,
      "outputs": [
        {
          "output_type": "stream",
          "text": [
            "              precision    recall  f1-score   support\n",
            "\n",
            "         0.0       0.92      0.76      0.84      2620\n",
            "         1.0       0.95      0.61      0.74      3019\n",
            "         2.0       0.97      0.95      0.96      5510\n",
            "         3.0       0.04      0.70      0.08        81\n",
            "         4.0       0.96      0.94      0.95      4770\n",
            "         5.0       0.00      0.00      0.00         0\n",
            "\n",
            "    accuracy                           0.85     16000\n",
            "   macro avg       0.64      0.66      0.60     16000\n",
            "weighted avg       0.95      0.85      0.89     16000\n",
            "\n"
          ],
          "name": "stdout"
        },
        {
          "output_type": "stream",
          "text": [
            "/usr/local/lib/python3.6/dist-packages/sklearn/metrics/_classification.py:1272: UndefinedMetricWarning: Recall and F-score are ill-defined and being set to 0.0 in labels with no true samples. Use `zero_division` parameter to control this behavior.\n",
            "  _warn_prf(average, modifier, msg_start, len(result))\n"
          ],
          "name": "stderr"
        }
      ]
    },
    {
      "cell_type": "code",
      "metadata": {
        "id": "hYFdU3GNW2AE",
        "colab_type": "code",
        "colab": {
          "base_uri": "https://localhost:8080/",
          "height": 235
        },
        "outputId": "d25abba8-b71f-4ef3-c2da-54263905488c"
      },
      "source": [
        "DataFrame(confusion_matrix(ynn_pre,yn),columns=yq,index=yq)"
      ],
      "execution_count": null,
      "outputs": [
        {
          "output_type": "execute_result",
          "data": {
            "text/html": [
              "<div>\n",
              "<style scoped>\n",
              "    .dataframe tbody tr th:only-of-type {\n",
              "        vertical-align: middle;\n",
              "    }\n",
              "\n",
              "    .dataframe tbody tr th {\n",
              "        vertical-align: top;\n",
              "    }\n",
              "\n",
              "    .dataframe thead th {\n",
              "        text-align: right;\n",
              "    }\n",
              "</style>\n",
              "<table border=\"1\" class=\"dataframe\">\n",
              "  <thead>\n",
              "    <tr style=\"text-align: right;\">\n",
              "      <th></th>\n",
              "      <th>anger\\n</th>\n",
              "      <th>fear\\n</th>\n",
              "      <th>joy\\n</th>\n",
              "      <th>love\\n</th>\n",
              "      <th>sadness\\n</th>\n",
              "      <th>surprise\\n</th>\n",
              "    </tr>\n",
              "  </thead>\n",
              "  <tbody>\n",
              "    <tr>\n",
              "      <th>anger\\n</th>\n",
              "      <td>1996</td>\n",
              "      <td>45</td>\n",
              "      <td>9</td>\n",
              "      <td>76</td>\n",
              "      <td>43</td>\n",
              "      <td>451</td>\n",
              "    </tr>\n",
              "    <tr>\n",
              "      <th>fear\\n</th>\n",
              "      <td>40</td>\n",
              "      <td>1844</td>\n",
              "      <td>31</td>\n",
              "      <td>983</td>\n",
              "      <td>22</td>\n",
              "      <td>99</td>\n",
              "    </tr>\n",
              "    <tr>\n",
              "      <th>joy\\n</th>\n",
              "      <td>8</td>\n",
              "      <td>26</td>\n",
              "      <td>5208</td>\n",
              "      <td>155</td>\n",
              "      <td>103</td>\n",
              "      <td>10</td>\n",
              "    </tr>\n",
              "    <tr>\n",
              "      <th>love\\n</th>\n",
              "      <td>4</td>\n",
              "      <td>9</td>\n",
              "      <td>4</td>\n",
              "      <td>57</td>\n",
              "      <td>6</td>\n",
              "      <td>1</td>\n",
              "    </tr>\n",
              "    <tr>\n",
              "      <th>sadness\\n</th>\n",
              "      <td>111</td>\n",
              "      <td>13</td>\n",
              "      <td>110</td>\n",
              "      <td>33</td>\n",
              "      <td>4492</td>\n",
              "      <td>11</td>\n",
              "    </tr>\n",
              "    <tr>\n",
              "      <th>surprise\\n</th>\n",
              "      <td>0</td>\n",
              "      <td>0</td>\n",
              "      <td>0</td>\n",
              "      <td>0</td>\n",
              "      <td>0</td>\n",
              "      <td>0</td>\n",
              "    </tr>\n",
              "  </tbody>\n",
              "</table>\n",
              "</div>"
            ],
            "text/plain": [
              "            anger\\n  fear\\n  joy\\n  love\\n  sadness\\n  surprise\\n\n",
              "anger\\n        1996      45      9      76         43         451\n",
              "fear\\n           40    1844     31     983         22          99\n",
              "joy\\n             8      26   5208     155        103          10\n",
              "love\\n            4       9      4      57          6           1\n",
              "sadness\\n       111      13    110      33       4492          11\n",
              "surprise\\n        0       0      0       0          0           0"
            ]
          },
          "metadata": {
            "tags": []
          },
          "execution_count": 240
        }
      ]
    },
    {
      "cell_type": "code",
      "metadata": {
        "id": "bAzikOSwW1-Q",
        "colab_type": "code",
        "colab": {
          "base_uri": "https://localhost:8080/",
          "height": 34
        },
        "outputId": "d639c4c2-6c42-44e5-e917-4cb0b1f0b79c"
      },
      "source": [
        "accuracy_score(ynn_pre,yn)"
      ],
      "execution_count": null,
      "outputs": [
        {
          "output_type": "execute_result",
          "data": {
            "text/plain": [
              "0.8498125"
            ]
          },
          "metadata": {
            "tags": []
          },
          "execution_count": 236
        }
      ]
    },
    {
      "cell_type": "code",
      "metadata": {
        "id": "sbl8u68u7syD",
        "colab_type": "code",
        "colab": {
          "base_uri": "https://localhost:8080/",
          "height": 34
        },
        "outputId": "d4e8af1b-0e9a-44e2-d937-6dfd391a48bd"
      },
      "source": [
        "accuracy_score(ynn_pre1,yt_n)         # clearly overfitting is present"
      ],
      "execution_count": null,
      "outputs": [
        {
          "output_type": "execute_result",
          "data": {
            "text/plain": [
              "0.7765"
            ]
          },
          "metadata": {
            "tags": []
          },
          "execution_count": 238
        }
      ]
    },
    {
      "cell_type": "code",
      "metadata": {
        "id": "0rEMnLByw8Jy",
        "colab_type": "code",
        "colab": {}
      },
      "source": [
        "with open('test.txt','r') as txt:\n",
        "    test=txt.readlines()"
      ],
      "execution_count": null,
      "outputs": []
    },
    {
      "cell_type": "code",
      "metadata": {
        "id": "RBDoIaMGw8No",
        "colab_type": "code",
        "colab": {}
      },
      "source": [
        "xt=[]\n",
        "yt=[]\n",
        "for i in np.arange(len(test)):\n",
        "  txt = test[i]\n",
        "  xt1,yt1 = txt.split(\";\")\n",
        "  xt=np.append(xt,xt1)\n",
        "  yt=np.append(yt,yt1)\n",
        "corpus_t=[]\n",
        "for j in np.arange(len(xt)):\n",
        "  txt=(str(xt[j]))\n",
        "  txt1=\"\"\n",
        "  for  i in txt.split(\" \"):\n",
        "     if i not in (stop_words):\n",
        "      txt1=txt1+\"\".join(i)+\" \"\n",
        "  corpus_t=np.append(corpus_t,txt1)\n",
        "cr_t=[]\n",
        "ct=(corpus_t)\n",
        "for i in np.arange(len(ct)):\n",
        "  c11=nlp(str(ct[i]))\n",
        "  c1=\" \".join([token.lemma_ for token in c11])\n",
        "  cr_t=np.append(cr_t,c1)\n",
        "ynn_pre2=pmodel_nn.predict(cr_t)\n",
        "ynn_pre1=[]\n",
        "for i in np.arange(len(ynn_pre2)):\n",
        "   ynn_pre1=np.append(ynn_pre1,np.argmax(ynn_pre2[i]))\n",
        "yt_n=[]\n",
        "for i in np.arange(len(yt)):\n",
        "    if yt[i]==yq[0]:\n",
        "      yt_n=np.append(yt_n,0)\n",
        "    elif yt[i]==yq[1]:\n",
        "      yt_n=np.append(yt_n,1)\n",
        "    elif yt[i]==yq[2]:\n",
        "      yt_n=np.append(yt_n,2)\n",
        "    elif yt[i]==yq[3]:\n",
        "      yt_n=np.append(yt_n,3)\n",
        "    elif yt[i]==yq[4]:\n",
        "      yt_n=np.append(yt_n,4)\n",
        "    elif yt[i]==yq[5]:\n",
        "      yt_n=np.append(yt_n,5)"
      ],
      "execution_count": null,
      "outputs": []
    },
    {
      "cell_type": "code",
      "metadata": {
        "id": "argygjgXW16s",
        "colab_type": "code",
        "colab": {
          "base_uri": "https://localhost:8080/",
          "height": 204
        },
        "outputId": "c3c6a6d3-4989-4dee-e623-bef32b7643f3"
      },
      "source": [
        "\n",
        "DataFrame([yt,yt_n,ynn_pre1]).T.head()"
      ],
      "execution_count": null,
      "outputs": [
        {
          "output_type": "execute_result",
          "data": {
            "text/html": [
              "<div>\n",
              "<style scoped>\n",
              "    .dataframe tbody tr th:only-of-type {\n",
              "        vertical-align: middle;\n",
              "    }\n",
              "\n",
              "    .dataframe tbody tr th {\n",
              "        vertical-align: top;\n",
              "    }\n",
              "\n",
              "    .dataframe thead th {\n",
              "        text-align: right;\n",
              "    }\n",
              "</style>\n",
              "<table border=\"1\" class=\"dataframe\">\n",
              "  <thead>\n",
              "    <tr style=\"text-align: right;\">\n",
              "      <th></th>\n",
              "      <th>0</th>\n",
              "      <th>1</th>\n",
              "      <th>2</th>\n",
              "    </tr>\n",
              "  </thead>\n",
              "  <tbody>\n",
              "    <tr>\n",
              "      <th>0</th>\n",
              "      <td>sadness\\n</td>\n",
              "      <td>4</td>\n",
              "      <td>4</td>\n",
              "    </tr>\n",
              "    <tr>\n",
              "      <th>1</th>\n",
              "      <td>sadness\\n</td>\n",
              "      <td>4</td>\n",
              "      <td>4</td>\n",
              "    </tr>\n",
              "    <tr>\n",
              "      <th>2</th>\n",
              "      <td>sadness\\n</td>\n",
              "      <td>4</td>\n",
              "      <td>4</td>\n",
              "    </tr>\n",
              "    <tr>\n",
              "      <th>3</th>\n",
              "      <td>joy\\n</td>\n",
              "      <td>2</td>\n",
              "      <td>2</td>\n",
              "    </tr>\n",
              "    <tr>\n",
              "      <th>4</th>\n",
              "      <td>sadness\\n</td>\n",
              "      <td>4</td>\n",
              "      <td>4</td>\n",
              "    </tr>\n",
              "  </tbody>\n",
              "</table>\n",
              "</div>"
            ],
            "text/plain": [
              "           0  1  2\n",
              "0  sadness\\n  4  4\n",
              "1  sadness\\n  4  4\n",
              "2  sadness\\n  4  4\n",
              "3      joy\\n  2  2\n",
              "4  sadness\\n  4  4"
            ]
          },
          "metadata": {
            "tags": []
          },
          "execution_count": 140
        }
      ]
    },
    {
      "cell_type": "code",
      "metadata": {
        "id": "rJl7X5E0MrYp",
        "colab_type": "code",
        "colab": {
          "base_uri": "https://localhost:8080/",
          "height": 235
        },
        "outputId": "9e43ef54-37a6-498a-b056-252e2c72bcff"
      },
      "source": [
        "\n",
        "DataFrame(confusion_matrix(ynn_pre1,yt_n),columns=yq,index=yq)"
      ],
      "execution_count": null,
      "outputs": [
        {
          "output_type": "execute_result",
          "data": {
            "text/html": [
              "<div>\n",
              "<style scoped>\n",
              "    .dataframe tbody tr th:only-of-type {\n",
              "        vertical-align: middle;\n",
              "    }\n",
              "\n",
              "    .dataframe tbody tr th {\n",
              "        vertical-align: top;\n",
              "    }\n",
              "\n",
              "    .dataframe thead th {\n",
              "        text-align: right;\n",
              "    }\n",
              "</style>\n",
              "<table border=\"1\" class=\"dataframe\">\n",
              "  <thead>\n",
              "    <tr style=\"text-align: right;\">\n",
              "      <th></th>\n",
              "      <th>anger\\n</th>\n",
              "      <th>fear\\n</th>\n",
              "      <th>joy\\n</th>\n",
              "      <th>love\\n</th>\n",
              "      <th>sadness\\n</th>\n",
              "      <th>surprise\\n</th>\n",
              "    </tr>\n",
              "  </thead>\n",
              "  <tbody>\n",
              "    <tr>\n",
              "      <th>anger\\n</th>\n",
              "      <td>200</td>\n",
              "      <td>15</td>\n",
              "      <td>7</td>\n",
              "      <td>14</td>\n",
              "      <td>14</td>\n",
              "      <td>33</td>\n",
              "    </tr>\n",
              "    <tr>\n",
              "      <th>fear\\n</th>\n",
              "      <td>14</td>\n",
              "      <td>182</td>\n",
              "      <td>21</td>\n",
              "      <td>77</td>\n",
              "      <td>3</td>\n",
              "      <td>20</td>\n",
              "    </tr>\n",
              "    <tr>\n",
              "      <th>joy\\n</th>\n",
              "      <td>7</td>\n",
              "      <td>11</td>\n",
              "      <td>649</td>\n",
              "      <td>47</td>\n",
              "      <td>45</td>\n",
              "      <td>5</td>\n",
              "    </tr>\n",
              "    <tr>\n",
              "      <th>love\\n</th>\n",
              "      <td>0</td>\n",
              "      <td>2</td>\n",
              "      <td>6</td>\n",
              "      <td>5</td>\n",
              "      <td>2</td>\n",
              "      <td>1</td>\n",
              "    </tr>\n",
              "    <tr>\n",
              "      <th>sadness\\n</th>\n",
              "      <td>54</td>\n",
              "      <td>14</td>\n",
              "      <td>12</td>\n",
              "      <td>16</td>\n",
              "      <td>517</td>\n",
              "      <td>7</td>\n",
              "    </tr>\n",
              "    <tr>\n",
              "      <th>surprise\\n</th>\n",
              "      <td>0</td>\n",
              "      <td>0</td>\n",
              "      <td>0</td>\n",
              "      <td>0</td>\n",
              "      <td>0</td>\n",
              "      <td>0</td>\n",
              "    </tr>\n",
              "  </tbody>\n",
              "</table>\n",
              "</div>"
            ],
            "text/plain": [
              "            anger\\n  fear\\n  joy\\n  love\\n  sadness\\n  surprise\\n\n",
              "anger\\n         200      15      7      14         14          33\n",
              "fear\\n           14     182     21      77          3          20\n",
              "joy\\n             7      11    649      47         45           5\n",
              "love\\n            0       2      6       5          2           1\n",
              "sadness\\n        54      14     12      16        517           7\n",
              "surprise\\n        0       0      0       0          0           0"
            ]
          },
          "metadata": {
            "tags": []
          },
          "execution_count": 252
        }
      ]
    },
    {
      "cell_type": "code",
      "metadata": {
        "id": "7PN8SqSzMrVx",
        "colab_type": "code",
        "colab": {
          "base_uri": "https://localhost:8080/",
          "height": 34
        },
        "outputId": "2abb7a5a-e0cd-4155-8a92-a1540add2e23"
      },
      "source": [
        "accuracy_score(ynn_pre1,yt_n)          # clearly overfitting is present"
      ],
      "execution_count": null,
      "outputs": [
        {
          "output_type": "execute_result",
          "data": {
            "text/plain": [
              "0.698"
            ]
          },
          "metadata": {
            "tags": []
          },
          "execution_count": 154
        }
      ]
    },
    {
      "cell_type": "code",
      "metadata": {
        "id": "GaZDdYk0W11R",
        "colab_type": "code",
        "colab": {
          "base_uri": "https://localhost:8080/",
          "height": 35
        },
        "outputId": "87982846-92d9-4e41-dcbc-a36d33d6d364"
      },
      "source": [
        "feel(pmodel_nn.predict([\"open your eyes and see the reality of the world\"]))"
      ],
      "execution_count": null,
      "outputs": [
        {
          "output_type": "execute_result",
          "data": {
            "application/vnd.google.colaboratory.intrinsic": {
              "type": "string"
            },
            "text/plain": [
              "'sadness'"
            ]
          },
          "metadata": {
            "tags": []
          },
          "execution_count": 247
        }
      ]
    },
    {
      "cell_type": "code",
      "metadata": {
        "id": "5IIlHelTWuFp",
        "colab_type": "code",
        "colab": {
          "base_uri": "https://localhost:8080/",
          "height": 35
        },
        "outputId": "e7f34924-3d40-4345-b4ad-dcf7e31f0f0a"
      },
      "source": [
        "feel(pmodel_nn.predict([\"hello dear i have been searching for you from a long time\"]))"
      ],
      "execution_count": null,
      "outputs": [
        {
          "output_type": "execute_result",
          "data": {
            "application/vnd.google.colaboratory.intrinsic": {
              "type": "string"
            },
            "text/plain": [
              "'anger'"
            ]
          },
          "metadata": {
            "tags": []
          },
          "execution_count": 248
        }
      ]
    },
    {
      "cell_type": "code",
      "metadata": {
        "id": "nTX0ZHzIP_NA",
        "colab_type": "code",
        "colab": {
          "base_uri": "https://localhost:8080/",
          "height": 35
        },
        "outputId": "0d9fd7dc-48db-4356-c883-cfeb91bdbc75"
      },
      "source": [
        "feel(pmodel_nn.predict([\"this is me and my life you dont worry\"]))"
      ],
      "execution_count": null,
      "outputs": [
        {
          "output_type": "execute_result",
          "data": {
            "application/vnd.google.colaboratory.intrinsic": {
              "type": "string"
            },
            "text/plain": [
              "'joy'"
            ]
          },
          "metadata": {
            "tags": []
          },
          "execution_count": 249
        }
      ]
    },
    {
      "cell_type": "code",
      "metadata": {
        "id": "n6kinJfPP_La",
        "colab_type": "code",
        "colab": {}
      },
      "source": [
        ""
      ],
      "execution_count": null,
      "outputs": []
    },
    {
      "cell_type": "code",
      "metadata": {
        "id": "hOvMS5hYWuKP",
        "colab_type": "code",
        "colab": {}
      },
      "source": [
        ""
      ],
      "execution_count": null,
      "outputs": []
    },
    {
      "cell_type": "code",
      "metadata": {
        "id": "JvPRmiAJe8N1",
        "colab_type": "code",
        "colab": {}
      },
      "source": [
        ""
      ],
      "execution_count": null,
      "outputs": []
    },
    {
      "cell_type": "code",
      "metadata": {
        "id": "oB5aFd-se8nY",
        "colab_type": "code",
        "colab": {}
      },
      "source": [
        ""
      ],
      "execution_count": null,
      "outputs": []
    },
    {
      "cell_type": "code",
      "metadata": {
        "id": "YuNPSFMye873",
        "colab_type": "code",
        "colab": {}
      },
      "source": [
        ""
      ],
      "execution_count": null,
      "outputs": []
    },
    {
      "cell_type": "code",
      "metadata": {
        "id": "knWf1wOIfGRl",
        "colab_type": "code",
        "colab": {}
      },
      "source": [
        "#padded_inputs = tf.keras.preprocessing.sequence.pad_sequences(\n",
        "#    mat3, padding=\"post\"\n",
        "#)\n",
        "#print(padded_inputs)"
      ],
      "execution_count": null,
      "outputs": []
    },
    {
      "cell_type": "code",
      "metadata": {
        "id": "I4POSBnEDz-1",
        "colab_type": "code",
        "colab": {}
      },
      "source": [
        "\n",
        "from keras.preprocessing.text import Tokenizer\n",
        "# integer encode sequences of words\n",
        "tokenizer = Tokenizer()\n",
        "tokenizer.fit_on_texts(cr)\n",
        "#sequences = tokenizer.texts_to_sequences(text_sequences)\n",
        "vocabulary_size = len(tokenizer.word_counts)\n",
        "from keras.utils import to_categorical\n",
        "#tfn=TfidfVectorizer(stop_words=stop_words)\n",
        "#xnn=tfn.fit_transform(cr)\n",
        "from sklearn.metrics import confusion_matrix,accuracy_score,classification_report\n",
        "\n",
        "pmodel_nn = Pipeline([('tfidf', TfidfVectorizer(stop_words=stop_words)),\n",
        "                       ('nn_mo', nn_model(132000,12324))])\n",
        "\n",
        "\n",
        "\n",
        "with open('test.txt','r') as txt:\n",
        "    test=txt.readlines()\n",
        "\n",
        "xt=[]\n",
        "yt=[]\n",
        "for i in np.arange(len(test)):\n",
        "  txt = test[i]\n",
        "  xt1,yt1 = txt.split(\";\")\n",
        "  xt=np.append(xt,xt1)\n",
        "  yt=np.append(yt,yt1)\n",
        "\n",
        "corpus_t=[]\n",
        "for j in np.arange(len(xt)):\n",
        "  txt=(str(xt[j]))\n",
        "  txt1=\"\"\n",
        "  for  i in txt.split(\" \"):\n",
        "     if i not in (stop_words):\n",
        "      txt1=txt1+\"\".join(i)+\" \"\n",
        "  corpus_t=np.append(corpus_t,txt1)\n",
        "\n",
        "cr_t=[]\n",
        "ct=(corpus_t)\n",
        "for i in np.arange(len(ct)):\n",
        "  c11=nlp(str(ct[i]))\n",
        "  c1=\" \".join([token.lemma_ for token in c11])\n",
        "  cr_t=np.append(cr_t,c1)\n",
        "\n",
        "y_pre1=pmodel_svm.predict(cr_t)\n",
        "\n",
        "\n",
        "############################################\n",
        "\n",
        "def nn_model(vocabulary_size, nn_len):\n",
        "    model = Sequential()\n",
        "    model.add(Dense(10, input_dim=nn_len, kernel_initializer = 'uniform',activation='relu'))\n",
        "    model.add(Dense(6, input_dim=10, activation='relu'))\n",
        "    model.add(Dense(6, input_dim=14, activation='relu'))\n",
        "    model.add(Dense(output_dim = 6, activation = 'softmax'))   #output layer\n",
        "    model.compile(loss='categorical_crossentropy', optimizer='adam', metrics=['accuracy'])     \n",
        "    return model"
      ],
      "execution_count": null,
      "outputs": []
    },
    {
      "cell_type": "code",
      "metadata": {
        "id": "dqSLcrolJmKP",
        "colab_type": "code",
        "colab": {}
      },
      "source": [
        ""
      ],
      "execution_count": null,
      "outputs": []
    }
  ]
}